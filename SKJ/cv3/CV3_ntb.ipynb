{
 "cells": [
  {
   "cell_type": "markdown",
   "metadata": {},
   "source": [
    "# Objektově orientované programování (OOP) v Pythonu\n",
    "\n",
    "Tento notebook shrnuje základní principy objektově orientovaného programování v Pythonu, což je vhodné pro začátečníky. Naučíte se, jak definovat třídy, vytvářet objekty, používat atributy, metody a implementovat dědění."
   ]
  },
  {
   "cell_type": "markdown",
   "metadata": {},
   "source": [
    "## Základní pojmy\n",
    "\n",
    "- **Třída**: Šablona pro vytváření objektů. Definuje vlastnosti a chování objektů.\n",
    "- **Objekt**: Instance třídy.\n",
    "- **Atribut**: Proměnná, která náleží objektu nebo třídě.\n",
    "- **Metoda**: Funkce definovaná uvnitř třídy, která popisuje chování objektu."
   ]
  },
  {
   "cell_type": "markdown",
   "metadata": {},
   "source": [
    "## Definice třídy a konstruktor\n",
    "\n",
    "V Pythonu definujeme třídu pomocí klíčového slova `class`. Konstruktor `__init__` se používá k inicializaci atributů při vytváření instance třídy."
   ]
  },
  {
   "cell_type": "code",
   "execution_count": null,
   "metadata": {},
   "outputs": [],
   "source": [
    "# Příklad jednoduché třídy\n",
    "class Auto:\n",
    "    def __init__(self, znacka, model):\n",
    "        self.znacka = znacka\n",
    "        self.model = model\n",
    "\n",
    "    def info(self):\n",
    "        return f\"Auto: {self.znacka} {self.model}\"\n",
    "\n",
    "# Vytvoření instance třídy Auto\n",
    "moje_auto = Auto(\"Škoda\", \"Octavia\")\n",
    "print(moje_auto.info())"
   ]
  },
  {
   "cell_type": "markdown",
   "metadata": {},
   "source": [
    "## Dědění\n",
    "\n",
    "Dědění je klíčovým principem OOP, který umožňuje vytvářet nové třídy (podtřídy) na základě existujících (rodičovských tříd). Podtřída dědí atributy a metody rodičovské třídy, což podporuje opětovné použití kódu a zjednodušuje rozšiřování funkcionality.\n",
    "\n",
    "V příkladu níže vytvoříme rodičovskou třídu `Osoba` a podtřídu `Student`, která dědí z třídy `Osoba` a rozšiřuje ji o další atribut.\n",
    "\n",
    "Funkce `super()` v Pythonu se používá v kontextu dědičnosti a slouží k volání metod nadřazené (rodičovské) třídy z potomkové (dětské) třídy. Tímto způsobem:\n",
    "\n",
    "- Umožňuje přístup k metodám rodičovské třídy, které mohou být přepsány v dětské třídě.\n",
    "- Umožňuje inicializovat atributy nadřazené třídy přímo z konstruktoru potomka, aniž by bylo třeba volat rodičovský název třídy explicitně.\n",
    "\n",
    "Použití `super()` zjednodušuje údržbu kódu, protože pokud se v rodičovské třídě změní implementace metody, potomci využívající `super()` budou automaticky používat aktualizovanou verzi metody."
   ]
  },
  {
   "cell_type": "code",
   "execution_count": 11,
   "id": "6a466747",
   "metadata": {},
   "outputs": [
    {
     "name": "stdout",
     "output_type": "stream",
     "text": [
      "Jmenuji se Jan, je mi 20 let a studuji informatiku.\n"
     ]
    }
   ],
   "source": [
    "# Rodičovská třída\n",
    "class Osoba:\n",
    "    def __init__(self, jmeno, vek):\n",
    "        self.jmeno = jmeno\n",
    "        self.vek = vek\n",
    "\n",
    "    def predstav_se(self):\n",
    "        return f\"Jmenuji se {self.jmeno} a je mi {self.vek} let.\"\n",
    "\n",
    "# Podtřída, která dědí z třídy Osoba\n",
    "class Student(Osoba):\n",
    "    def __init__(self, jmeno, vek, obor):\n",
    "        # Zavolání konstruktoru rodičovské třídy pomocí super()\n",
    "        super().__init__(jmeno, vek)\n",
    "        self.obor = obor\n",
    "\n",
    "    def predstav_se(self):\n",
    "        # Přepsání metody představ_se s doplněním informace o oboru\n",
    "        return f\"Jmenuji se {self.jmeno}, je mi {self.vek} let a studuji {self.obor}.\"\n",
    "\n",
    "# Vytvoření instance třídy Student\n",
    "student = Student(\"Jan\", 20, \"informatiku\")\n",
    "print(student.predstav_se())"
   ]
  },
  {
   "cell_type": "markdown",
   "id": "57d50098",
   "metadata": {},
   "source": [
    "## Třídní vs. instanční proměnné\n",
    "\n",
    "- **Třídní proměnné** jsou definovány přímo v těle třídy mimo jakoukoli metodu. Jsou společné pro všechny instance třídy. Například, pokud změníte hodnotu třídní proměnné, projeví se tato změna ve všech existujících i nově vytvořených objektech té třídy.\n",
    "\n",
    "- **Instanční proměnné** se obvykle definují uvnitř konstruktoru `__init__` a jsou jedinečné pro každou instanci třídy. Každý objekt má tedy svůj vlastní stav, který není sdílen s ostatními objekty téže třídy."
   ]
  },
  {
   "cell_type": "code",
   "execution_count": 2,
   "id": "845ced3f",
   "metadata": {},
   "outputs": [
    {
     "name": "stdout",
     "output_type": "stream",
     "text": [
      "Jméno: Objekt A, počet instancí: 1\n",
      "Jméno: Objekt B, počet instancí: 2\n"
     ]
    }
   ],
   "source": [
    "# Příklad demonstrace třídních vs. instančních proměnných\n",
    "class Priklad:\n",
    "    # Třídní proměnná\n",
    "    pocitadlo = 0\n",
    "    \n",
    "    def __init__(self, jmeno):\n",
    "        # Instanční proměnná\n",
    "        self.jmeno = jmeno\n",
    "        Priklad.pocitadlo += 1\n",
    "        \n",
    "    def info(self):\n",
    "        return f\"Jméno: {self.jmeno}, počet instancí: {Priklad.pocitadlo}\"\n",
    "\n",
    "a = Priklad(\"Objekt A\")\n",
    "print(a.info())\n",
    "b = Priklad(\"Objekt B\")\n",
    "print(b.info())"
   ]
  },
  {
   "cell_type": "markdown",
   "metadata": {},
   "source": [
    "## Pokročilejší témata OOP"
   ]
  },
  {
   "cell_type": "markdown",
   "metadata": {},
   "source": [
    "### Polymorfismus (Polymorphism)\n",
    "\n",
    "Polymorfismus umožňuje, aby objekty různých tříd reagovaly na stejné volání metody různými způsoby. Pokud různé třídy implementují stejnou metodu, lze s jejich instancemi pracovat jednotně."
   ]
  },
  {
   "cell_type": "code",
   "execution_count": null,
   "metadata": {},
   "outputs": [],
   "source": [
    "class Animal:\n",
    "    def sound(self):\n",
    "        pass\n",
    "\n",
    "class Cat(Animal):\n",
    "    def sound(self):\n",
    "        return \"Mňau\"\n",
    "\n",
    "class Dog(Animal):\n",
    "    def sound(self):\n",
    "        return \"Haf\"\n",
    "\n",
    "for animal in [Cat(), Dog()]:\n",
    "    print(animal.sound())"
   ]
  },
  {
   "cell_type": "markdown",
   "metadata": {},
   "source": [
    "### Abstrakce (Abstraction)\n",
    "\n",
    "Abstrakce znamená definovat třídy, které obsahují pouze deklaraci metod, aniž by byly implementovány. V Pythonu se k tomu využívá modul `abc` a dekorátor `@abstractmethod`. Abstraktní třída nemůže být instanciována, ale slouží jako šablona pro potomky."
   ]
  },
  {
   "cell_type": "code",
   "execution_count": null,
   "metadata": {},
   "outputs": [],
   "source": [
    "from abc import ABC, abstractmethod\n",
    "\n",
    "class Shape(ABC):\n",
    "    @abstractmethod\n",
    "    def area(self):\n",
    "        pass\n",
    "\n",
    "class Rectangle(Shape):\n",
    "    def __init__(self, width, height):\n",
    "        self.width = width\n",
    "        self.height = height\n",
    "\n",
    "    def area(self):\n",
    "        return self.width * self.height\n",
    "\n",
    "# Ukázka použití\n",
    "rect = Rectangle(3, 4)\n",
    "print(\"Plocha obdélníku:\", rect.area())"
   ]
  },
  {
   "cell_type": "markdown",
   "metadata": {},
   "source": [
    "### Operátorové přetížení (Operator Overloading)\n",
    "\n",
    "Operátorové přetížení umožňuje definovat vlastní chování vestavěných operátorů (např. `+`, `==` nebo `str()`) pro objekty definovaných tříd. To usnadňuje práci s objekty a činí kód čitelnějším."
   ]
  },
  {
   "cell_type": "code",
   "execution_count": null,
   "metadata": {},
   "outputs": [],
   "source": [
    "class Vector:\n",
    "    def __init__(self, x, y):\n",
    "        self.x = x\n",
    "        self.y = y\n",
    "    \n",
    "    def __add__(self, other):\n",
    "        return Vector(self.x + other.x, self.y + other.y)\n",
    "    \n",
    "    def __str__(self):\n",
    "        return f\"Vector({self.x}, {self.y})\"\n",
    "    \n",
    "    def __eq__(self, other):\n",
    "        return self.x == other.x and self.y == other.y\n",
    "\n",
    "# Ukázka použití\n",
    "v1 = Vector(2, 3)\n",
    "v2 = Vector(4, 1)\n",
    "v3 = v1 + v2\n",
    "print(v3)\n",
    "print(v1 == Vector(2, 3))"
   ]
  },
  {
   "cell_type": "markdown",
   "metadata": {},
   "source": [
    "### Kompozice vs. dědičnost\n",
    "\n",
    "Kompozice znamená, že třída využívá instance jiné třídy (má ji jako atribut) pro dosažení určité funkcionality. Na rozdíl od dědičnosti, kdy je jedna třída rozšířením jiné, kompozice umožňuje vytvářet flexibilnější struktury a oddělit odpovědnosti."
   ]
  },
  {
   "cell_type": "code",
   "execution_count": null,
   "metadata": {},
   "outputs": [],
   "source": [
    "class Engine:\n",
    "    def start(self):\n",
    "        return \"Engine started\"\n",
    "\n",
    "class Car:\n",
    "    def __init__(self, brand):\n",
    "        self.brand = brand\n",
    "        self.engine = Engine()  # kompozice\n",
    "    \n",
    "    def start(self):\n",
    "        return f\"{self.brand} car: {self.engine.start()}\"\n",
    "\n",
    "# Ukázka použití\n",
    "car = Car(\"Toyota\")\n",
    "print(car.start())"
   ]
  },
  {
   "cell_type": "markdown",
   "id": "62d711a7",
   "metadata": {},
   "source": [
    "## Složitější příklad\n",
    "\n"
   ]
  },
  {
   "cell_type": "code",
   "execution_count": 2,
   "id": "6bedeb63",
   "metadata": {},
   "outputs": [],
   "source": [
    "class Zaměstnanec:\n",
    "    def __init__(self, jmeno, plat):\n",
    "        self.jmeno = jmeno\n",
    "        self.plat = plat\n",
    "\n",
    "    def vypis_info(self):\n",
    "        return f\"Zaměstnanec: {self.jmeno}, Plat: {self.plat}\"\n",
    "\n",
    "    def pracuj(self):\n",
    "        return \"Zaměstnanec pracuje.\""
   ]
  },
  {
   "cell_type": "code",
   "execution_count": 3,
   "id": "03cf1fa5",
   "metadata": {},
   "outputs": [],
   "source": [
    "class Manažer(Zaměstnanec):\n",
    "    def __init__(self, jmeno, plat, oddělení):\n",
    "        super().__init__(jmeno, plat)\n",
    "        self.oddělení = oddělení\n",
    "\n",
    "    def vypis_info(self):\n",
    "        return f\"{super().vypis_info()}, Oddělení: {self.oddělení}\"\n",
    "\n",
    "    def pracuj(self):\n",
    "        return \"Manažer řídí své zaměstnance.\""
   ]
  },
  {
   "cell_type": "code",
   "execution_count": 6,
   "id": "b536f047",
   "metadata": {},
   "outputs": [],
   "source": [
    "class Programátor(Zaměstnanec):\n",
    "    def __init__(self, jmeno, plat, programovací_jazyk):\n",
    "        super().__init__(jmeno, plat)\n",
    "        self.programovací_jazyk = programovací_jazyk\n",
    "\n",
    "    def vypis_info(self):\n",
    "        return f\"{super().vypis_info()}, Programovací jazyk: {self.programovací_jazyk}\"\n",
    "\n",
    "    def pracuj(self):\n",
    "        return f'Programátor píše kód v {self.programovací_jazyk}.'"
   ]
  },
  {
   "cell_type": "code",
   "execution_count": 9,
   "id": "c73cf7f7",
   "metadata": {},
   "outputs": [],
   "source": [
    "class SeniorProgramátor(Programátor):\n",
    "    def __init__(self, jmeno, plat, programovací_jazyk, juniors):\n",
    "        super().__init__(jmeno, plat, programovací_jazyk)\n",
    "        self.juniors = juniors\n",
    "\n",
    "    def mentoruj(self):\n",
    "        return f\"Senior programátor mentoruje {self.juniors} juniorů.\"\n",
    "\n",
    "    def pracuj(self):\n",
    "        # Přetížení metody pracuj z Programátor\n",
    "        return f\"{super().pracuj()} a mentoruje junior programátory.\""
   ]
  },
  {
   "cell_type": "code",
   "execution_count": 10,
   "id": "1c746377",
   "metadata": {},
   "outputs": [
    {
     "name": "stdout",
     "output_type": "stream",
     "text": [
      "Zaměstnanec: Petr Sýkora, Plat: 50000, Oddělení: IT\n",
      "Programátor píše kód v Python.\n",
      "Senior programátor mentoruje 3 juniorů.\n"
     ]
    }
   ],
   "source": [
    "zaměstnanec = Zaměstnanec(\"Jan Novák\", 30000)\n",
    "manažer = Manažer(\"Petr Sýkora\", 50000, \"IT\")\n",
    "programátor = Programátor(\"Lucie Králová\", 40000, \"Python\")\n",
    "senior = SeniorProgramátor(\"Martin Zelený\", 60000, \"Python\", 3)\n",
    "\n",
    "print(manažer.vypis_info())\n",
    "print(programátor.pracuj())\n",
    "print(senior.mentoruj())"
   ]
  },
  {
   "cell_type": "markdown",
   "id": "505ded7d",
   "metadata": {},
   "source": [
    "## Shrnutí\n",
    "\n",
    "- **Třídy** a **objekty** jsou základem OOP.\n",
    "- Pomocí **atributů** a **metod** definujeme vlastnosti a chování objektů.\n",
    "- **Dědění** umožňuje opětovné použití kódu a rozšíření funkcionality stávajících tříd.\n",
    "- **Třídní proměnné** jsou sdíleny všemi instancemi, zatímco **instanční proměnné** patří jednotlivým objektům.\n",
    "- Klíčové slovo **super()** umožňuje snadné volání metod rodičovské třídy a inicializaci jejích atributů z potomků."
   ]
  }
 ],
 "metadata": {
  "kernelspec": {
   "display_name": ".venv",
   "language": "python",
   "name": "python3"
  },
  "language_info": {
   "codemirror_mode": {
    "name": "ipython",
    "version": 3
   },
   "file_extension": ".py",
   "mimetype": "text/x-python",
   "name": "python",
   "nbconvert_exporter": "python",
   "pygments_lexer": "ipython3",
   "version": "3.12.6"
  }
 },
 "nbformat": 4,
 "nbformat_minor": 5
}
