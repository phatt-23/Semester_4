{
 "cells": [
  {
   "cell_type": "markdown",
   "id": "d55b8730",
   "metadata": {},
   "source": [
    "# Práce s knihovnou ElementTree XML API\n",
    "\n",
    "Tento notebook slouží jako úvod do práce s knihovnou `xml.etree.ElementTree` v Pythonu, která umožňuje jednoduché zpracování XML dat. V průběhu tohoto cvičení se naučíte:\n",
    "- Načítat XML data z řetězce\n",
    "- Procházet a číst obsah XML stromu\n",
    "- Přidávat nové elementy do existující struktury\n",
    "- Ukládat upravený XML strom do souboru\n",
    "\n",
    "dokumentaci naleznete zde: [Dokumentace ElementTree](https://docs.python.org/3/library/xml.etree.elementtree.html)"
   ]
  },
  {
   "cell_type": "markdown",
   "id": "96e52bac",
   "metadata": {},
   "source": [
    " **Definice XML dat:**  \n",
    "  XML data jsou uložena v proměnné `xml_data` jako řetězec. Data obsahují kořenový element `<library>`, který má několik elementů `<book>`. Každý `<book>` má atribut `id` a obsahuje podřízené elementy `<title>`, `<author>` a `<year>`."
   ]
  },
  {
   "cell_type": "markdown",
   "metadata": {},
   "source": [
    "Ukázka XML dat:\n",
    "\n",
    "```xml\n",
    "<library>\n",
    "    <book id=\"1\">\n",
    "        <title>Harry Potter a Kámen mudrců</title>\n",
    "        <author>J.K. Rowling</author>\n",
    "        <year>1997</year>\n",
    "    </book>\n",
    "    <book id=\"2\">\n",
    "        <title>Pán prstenů: Společenstvo prstenu</title>\n",
    "        <author>J.R.R. Tolkien</author>\n",
    "        <year>1954</year>\n",
    "    </book>\n",
    "    <book id=\"3\">\n",
    "        <title>1984</title>\n",
    "        <author>George Orwell</author>\n",
    "        <year>1949</year>\n",
    "    </book>\n",
    "</library>"
   ]
  },
  {
   "cell_type": "markdown",
   "id": "6fc695de",
   "metadata": {},
   "source": [
    "## Načtení dat"
   ]
  },
  {
   "cell_type": "markdown",
   "id": "55aa2e13",
   "metadata": {},
   "source": [
    "Načtení XML dat z řetězce pomocí metody `fromstring()`:"
   ]
  },
  {
   "cell_type": "code",
   "execution_count": 2,
   "id": "b2211386",
   "metadata": {},
   "outputs": [
    {
     "name": "stdout",
     "output_type": "stream",
     "text": [
      "Kořenový element: library\n"
     ]
    }
   ],
   "source": [
    "import xml.etree.ElementTree as ET\n",
    "\n",
    "# Ukázková XML data\n",
    "xml_data = \"\"\"\n",
    "<library>\n",
    "    <book id=\"1\">\n",
    "        <title>Harry Potter a Kámen mudrců</title>\n",
    "        <author>J.K. Rowling</author>\n",
    "        <year>1997</year>\n",
    "    </book>\n",
    "    <book id=\"2\">\n",
    "        <title>Pán prstenů: Společenstvo prstenu</title>\n",
    "        <author>J.R.R. Tolkien</author>\n",
    "        <year>1954</year>\n",
    "    </book>\n",
    "    <book id=\"3\">\n",
    "        <title>1984</title>\n",
    "        <author>George Orwell</author>\n",
    "        <year>1949</year>\n",
    "    </book>\n",
    "</library>\n",
    "\"\"\"\n",
    "\n",
    "# Vytvoření stromu z XML řetězce\n",
    "root = ET.fromstring(xml_data)\n",
    "print(\"Kořenový element:\", root.tag)"
   ]
  },
  {
   "cell_type": "markdown",
   "id": "8b7f8182",
   "metadata": {},
   "source": [
    "Načtení XML dat z řetězce pomocí metody `parse()`:"
   ]
  },
  {
   "cell_type": "code",
   "execution_count": null,
   "id": "f784172f",
   "metadata": {},
   "outputs": [],
   "source": [
    "import xml.etree.ElementTree as ET\n",
    "\n",
    "# Načtení XML souboru do stromu\n",
    "tree = ET.parse('data.xml')\n",
    "\n",
    "# Získání kořenového elementu\n",
    "root = tree.getroot()\n",
    "\n",
    "# Výpis názvu kořenového elementu\n",
    "print(\"Kořenový element:\", root.tag)"
   ]
  },
  {
   "cell_type": "markdown",
   "id": "28be4467",
   "metadata": {},
   "source": [
    "## Procházení XML struktury\n",
    "\n",
    "V následujícím kódu projdeme všechny elementy `<country>` a vytiskneme jejich atributy a některé podřízené hodnoty."
   ]
  },
  {
   "cell_type": "markdown",
   "id": "7352957b",
   "metadata": {},
   "source": [
    "\n",
    "### Procházení všech knih pomocí `findall()`\n",
    "\n",
    "- **Vyhledání elementů:**  \n",
    "  Metoda `root.findall('book')` vrací seznam všech přímých potomků s tagem `<book>`, což odpovídá jednotlivým knihám.\n",
    "\n",
    "- **Výpis informací:**  \n",
    "  Pro každý nalezený `<book>` se pomocí metody `find()` vyhledají podřízené elementy `<title>`, `<author>` a `<year>`. Výpis pak obsahuje ID knihy a informace o jejím názvu, autorovi a roce vydání."
   ]
  },
  {
   "cell_type": "code",
   "execution_count": 3,
   "id": "8e08a279",
   "metadata": {},
   "outputs": [
    {
     "name": "stdout",
     "output_type": "stream",
     "text": [
      "Seznam knih v knihovně:\n",
      "Kniha 1: Harry Potter a Kámen mudrců | Autor: J.K. Rowling | Rok: 1997\n",
      "Kniha 2: Pán prstenů: Společenstvo prstenu | Autor: J.R.R. Tolkien | Rok: 1954\n",
      "Kniha 3: 1984 | Autor: George Orwell | Rok: 1949\n"
     ]
    }
   ],
   "source": [
    "print(\"Seznam knih v knihovně:\")\n",
    "for book in root.findall('book'):\n",
    "    book_id = book.get('id')\n",
    "    title = book.find('title').text\n",
    "    author = book.find('author').text\n",
    "    year = book.find('year').text\n",
    "    print(f\"Kniha {book_id}: {title} | Autor: {author} | Rok: {year}\")"
   ]
  },
  {
   "cell_type": "markdown",
   "id": "900bf22a",
   "metadata": {},
   "source": [
    "### Vyhledání konkrétní knihy pomocí XPath filtru\n",
    "\n",
    "- **Použití XPath:**  \n",
    "  XPath výraz `\"book[@id='2']\"` se použije k nalezení prvního `<book>` elementu, jehož atribut `id` je `\"2\"`.\n",
    "\n",
    "- **Výpis titulu:**  \n",
    "  Pokud je kniha nalezena, vypíše se její titulek.\n"
   ]
  },
  {
   "cell_type": "code",
   "execution_count": 4,
   "id": "7356eda8",
   "metadata": {},
   "outputs": [
    {
     "name": "stdout",
     "output_type": "stream",
     "text": [
      "\n",
      "Kniha s id='2': Pán prstenů: Společenstvo prstenu\n"
     ]
    }
   ],
   "source": [
    "# Vyhledání konkrétní knihy s id='2' pomocí find() a XPath filtru\n",
    "book_id2 = root.find(\"book[@id='2']\")\n",
    "if book_id2 is not None:\n",
    "    title = book_id2.find('title').text\n",
    "    print(\"\\nKniha s id='2':\", title)"
   ]
  },
  {
   "cell_type": "markdown",
   "id": "101be4f0",
   "metadata": {},
   "source": [
    "### Aktualizace hodnoty elementu\n",
    "\n",
    "- **Vyhledání knihy s `id='3'`:**  \n",
    "  Pomocí `find(\"book[@id='3']\")` se vyhledá element `<book>` s atributem `id=\"3\"`.\n",
    "\n",
    "- **Úprava roku vydání:**  \n",
    "  Najde se podřízený element `<year>` a jeho textová hodnota se aktualizuje z původního roku na nový (v našem případě `\"1950\"`). Stará a nová hodnota se poté vypíší.\n"
   ]
  },
  {
   "cell_type": "code",
   "execution_count": 5,
   "id": "9df72fff",
   "metadata": {},
   "outputs": [
    {
     "name": "stdout",
     "output_type": "stream",
     "text": [
      "\n",
      "Aktualizace roku pro knihu s id='3': 1949 -> 1950\n"
     ]
    }
   ],
   "source": [
    "# Aktualizace roku vydání knihy s id='3'\n",
    "book_id3 = root.find(\"book[@id='3']\")\n",
    "if book_id3 is not None:\n",
    "    year_element = book_id3.find('year')\n",
    "    old_year = year_element.text\n",
    "    year_element.text = \"1950\"  # Aktualizace roku\n",
    "    print(f\"\\nAktualizace roku pro knihu s id='3': {old_year} -> {year_element.text}\")"
   ]
  },
  {
   "cell_type": "markdown",
   "id": "05088684",
   "metadata": {},
   "source": [
    "### Výpis aktualizované struktury\n",
    "\n",
    "- **Opětovný výpis:**  \n",
    "  Po aktualizaci se znovu projdou všechny knihy pomocí `findall()`, aby se ověřila úspěšnost změny. Výpis obsahuje aktuální informace o všech knihách."
   ]
  },
  {
   "cell_type": "code",
   "execution_count": 6,
   "id": "9c105dfc",
   "metadata": {},
   "outputs": [
    {
     "name": "stdout",
     "output_type": "stream",
     "text": [
      "\n",
      "Aktualizovaný seznam knih:\n",
      "Kniha 1: Harry Potter a Kámen mudrců | Autor: J.K. Rowling | Rok: 1997\n",
      "Kniha 2: Pán prstenů: Společenstvo prstenu | Autor: J.R.R. Tolkien | Rok: 1954\n",
      "Kniha 3: 1984 | Autor: George Orwell | Rok: 1950\n"
     ]
    }
   ],
   "source": [
    "# Zobrazení aktualizované struktury XML\n",
    "print(\"\\nAktualizovaný seznam knih:\")\n",
    "for book in root.findall('book'):\n",
    "    book_id = book.get('id')\n",
    "    title = book.find('title').text\n",
    "    author = book.find('author').text\n",
    "    year = book.find('year').text\n",
    "    print(f\"Kniha {book_id}: {title} | Autor: {author} | Rok: {year}\")"
   ]
  },
  {
   "cell_type": "code",
   "execution_count": 7,
   "id": "267341e4",
   "metadata": {},
   "outputs": [
    {
     "name": "stdout",
     "output_type": "stream",
     "text": [
      "Původní atribut id: 1\n",
      "Nová hodnota id: 10\n",
      "Přidaný atribut genre: Fantasy\n",
      "Atribut genre po odstranění: None\n"
     ]
    }
   ],
   "source": [
    "# Vybereme první knihu\n",
    "book = root.find('book')\n",
    "\n",
    "# Změna hodnoty atributu 'id'\n",
    "print(\"Původní atribut id:\", book.get('id'))\n",
    "book.set('id', '10')\n",
    "print(\"Nová hodnota id:\", book.get('id'))\n",
    "\n",
    "# Přidání nového atributu 'genre'\n",
    "book.set('genre', 'Fantasy')\n",
    "print(\"Přidaný atribut genre:\", book.get('genre'))\n",
    "\n",
    "# Odstranění atributu 'genre'\n",
    "del book.attrib['genre']\n",
    "print(\"Atribut genre po odstranění:\", book.get('genre'))  # Vypíše None"
   ]
  },
  {
   "cell_type": "markdown",
   "id": "ab38610c",
   "metadata": {},
   "source": [
    " - Příkaz `ET.Element('book', id=\"4\")` vytváří nový XML element s tagem **book** a zároveň přiřazuje atribut **id** s hodnotou `\"4\"`. Tato syntaxe využívá klíčová slova v Pythonu, kdy se atributy předávají přímo při volání funkce.\n",
    "\n",
    "\n",
    " - Funkce `ET.SubElement` se používá pro vytvoření nových podřízených elementů uvnitř již existujícího elementu (v tomto případě nově vytvořeného elementu **book**). \n",
    "   - Pro každý podřízený element, například **title**, **author** nebo **year**, se ihned nastaví textový obsah pomocí atributu `.text`. \n",
    "   - To umožňuje vložit konkrétní hodnoty (např. \"Nová kniha\", \"Autor X\", \"2021\") přímo do elementů.\n",
    "\n",
    "\n",
    " - Metoda `root.append(new_book)` přidá vytvořený element `new_book` jako potomka ke kořenovému elementu `root`. \n",
    "    - Tento příkaz funguje podobně jako metoda `append` u seznamů v Pythonu, kdy se nový prvek přidá na konec seznamu potomků.\n",
    "\n",
    "\n",
    " - Metoda `findall('book')` vyhledá všechny přímé potomky kořenového elementu s tagem **book** a vrátí je jako seznam. Smyčka `for` poté iteruje přes tento seznam a pro každý element:\n",
    "    - `book.get('id')` získá hodnotu atributu **id**.\n",
    "    - `book.find('title').text` vyhledá první podřízený element **title** a získá jeho textový obsah.\n",
    "\n"
   ]
  },
  {
   "cell_type": "code",
   "execution_count": 8,
   "id": "646f2c12",
   "metadata": {},
   "outputs": [
    {
     "name": "stdout",
     "output_type": "stream",
     "text": [
      "Knihy po přidání nové:\n",
      "10 Harry Potter a Kámen mudrců\n",
      "2 Pán prstenů: Společenstvo prstenu\n",
      "3 1984\n",
      "4 Nová kniha\n",
      "\n",
      "Knihy po odstranění knihy s id='2':\n",
      "10 Harry Potter a Kámen mudrců\n",
      "3 1984\n",
      "4 Nová kniha\n"
     ]
    }
   ],
   "source": [
    "# Přidání nové knihy\n",
    "new_book = ET.Element('book', id=\"4\")\n",
    "ET.SubElement(new_book, 'title').text = \"Nová kniha\"\n",
    "ET.SubElement(new_book, 'author').text = \"Autor X\"\n",
    "ET.SubElement(new_book, 'year').text = \"2021\"\n",
    "root.append(new_book)\n",
    "\n",
    "print(\"Knihy po přidání nové:\")\n",
    "for book in root.findall('book'):\n",
    "    print(book.get('id'), book.find('title').text)\n",
    "\n",
    "# Odstranění knihy s id=\"2\"\n",
    "book_to_remove = root.find(\"book[@id='2']\")\n",
    "if book_to_remove is not None:\n",
    "    root.remove(book_to_remove)\n",
    "\n",
    "print(\"\\nKnihy po odstranění knihy s id='2':\")\n",
    "for book in root.findall('book'):\n",
    "    print(book.get('id'), book.find('title').text)"
   ]
  },
  {
   "cell_type": "markdown",
   "id": "dc7618a0",
   "metadata": {},
   "source": [
    "### Pokročilé XPath dotazy – vysvětlení a ukázka\n",
    "\n",
    "XPath (XML Path Language) je jazyk používaný k navigaci v XML dokumentech. Knihovna `xml.etree.ElementTree` podporuje omezenou množinu XPath, což umožňuje provádět pokročilé vyhledávací dotazy. \n",
    "\n",
    "#### Klíčové koncepty pokročilých XPath dotazů\n",
    "\n",
    "1. **Filtrování podle hodnoty podřízeného elementu**\n",
    "\n",
    "   - **Syntaxe:**  \n",
    "     `book[year='1949']`  \n",
    "     Tento výraz hledá všechny `<book>` elementy, u kterých podřízený element `<year>` má textovou hodnotu `\"1949\"`.\n",
    "\n",
    "2. **Filtrování podle atributů**\n",
    "\n",
    "   - **Syntaxe:**  \n",
    "     `book[@id='2']`  \n",
    "     Tento výraz najde `<book>` element s atributem `id`, jehož hodnota je `\"2\"`.\n",
    "\n",
    "3. **Relativní hledání v celém stromu**\n",
    "\n",
    "   - **Syntaxe:**  \n",
    "     `.//book`  \n",
    "     Tečka (`.`) označuje aktuální kontextový element a `//` umožňuje rekurzivně vyhledávat elementy `<book>` kdekoli v rámci potomků.\n"
   ]
  },
  {
   "cell_type": "code",
   "execution_count": 10,
   "id": "29baecfe",
   "metadata": {},
   "outputs": [
    {
     "name": "stdout",
     "output_type": "stream",
     "text": [
      "Knihy vydané v roce 1950:\n",
      "1984\n"
     ]
    }
   ],
   "source": [
    "# Vyhledání knih, kde je rok vydání \"1950\"\n",
    "books_1949 = root.findall(\"book[year='1950']\")\n",
    "print(\"Knihy vydané v roce 1950:\")\n",
    "for book in books_1949:\n",
    "    print(book.find('title').text)"
   ]
  },
  {
   "cell_type": "code",
   "execution_count": 14,
   "id": "bcdbc32b",
   "metadata": {},
   "outputs": [
    {
     "name": "stdout",
     "output_type": "stream",
     "text": [
      "\n",
      "Kniha s id='4': Nová kniha\n"
     ]
    }
   ],
   "source": [
    "# Vyhledání knihy s konkrétním atributem id=\"2\"\n",
    "book_id4 = root.find(\"book[@id='4']\")\n",
    "if book_id4 is not None:\n",
    "    print(\"\\nKniha s id='4':\", book_id4.find('title').text)"
   ]
  },
  {
   "cell_type": "code",
   "execution_count": 15,
   "id": "c924e6ce",
   "metadata": {},
   "outputs": [
    {
     "name": "stdout",
     "output_type": "stream",
     "text": [
      "\n",
      "Všechny knihy (pomocí .//):\n",
      "Harry Potter a Kámen mudrců\n",
      "1984\n",
      "Nová kniha\n"
     ]
    }
   ],
   "source": [
    "# Vyhledání všech knih v celém stromu (relativní hledání)\n",
    "all_books = root.findall(\".//book\")\n",
    "print(\"\\nVšechny knihy (pomocí .//):\")\n",
    "for book in all_books:\n",
    "    print(book.find('title').text)"
   ]
  },
  {
   "cell_type": "markdown",
   "id": "9cd47aee",
   "metadata": {},
   "source": [
    "###Formátovaný výstup XML (prettify) – Vysvětlení a Ukázka\n",
    "\n",
    "Formátovaný výstup XML, často označovaný jako \"prettify\", zajišťuje, že výsledný XML dokument je přehledný a čitelný pro člověka. Standardní výstup z `xml.etree.ElementTree` může být kompaktní a bez odsazení, což komplikuje jeho čtení. K tomu, abychom XML řetězec \"zkrášlili\", můžeme využít modul `xml.dom.minidom`.\n",
    "\n",
    "#### Klíčové body\n",
    "\n",
    "1. **Převod XML stromu na řetězec:**  \n",
    "   - Pomocí funkce `ET.tostring(root, encoding='utf-8')` převedeme celý XML strom na řetězec. Výsledný řetězec je obvykle kompaktní a nemá žádné formátování.\n",
    "\n",
    "2. **Načtení řetězce do DOM objektu:**  \n",
    "   - Modul `xml.dom.minidom` obsahuje funkci `parseString()`, která převede XML řetězec na DOM objekt, což umožňuje další manipulaci.\n",
    "\n",
    "3. **Generování formátovaného výstupu:**  \n",
    "   - Metoda `toprettyxml(indent=\"  \")` DOM objektu vytvoří formátovaný XML řetězec, kde parametr `indent` určuje odsazení (např. dvě mezery) pro každou úroveň hierarchie.\n"
   ]
  }
 ],
 "metadata": {
  "kernelspec": {
   "display_name": "Python 3",
   "language": "python",
   "name": "python3"
  },
  "language_info": {
   "codemirror_mode": {
    "name": "ipython",
    "version": 3
   },
   "file_extension": ".py",
   "mimetype": "text/x-python",
   "name": "python",
   "nbconvert_exporter": "python",
   "pygments_lexer": "ipython3",
   "version": "3.12.6"
  }
 },
 "nbformat": 4,
 "nbformat_minor": 5
}
